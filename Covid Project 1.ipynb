{
 "cells": [
  {
   "cell_type": "code",
   "execution_count": 2,
   "metadata": {},
   "outputs": [],
   "source": [
    "import pandas as pd\n",
    "import numpy as np\n",
    "import json\n",
    "import math\n",
    "import glob\n",
    "import nltk\n",
    "\n"
   ]
  },
  {
   "cell_type": "code",
   "execution_count": 3,
   "metadata": {},
   "outputs": [],
   "source": [
    "from sklearn.feature_extraction.text import CountVectorizer\n",
    "from sklearn.feature_extraction.text import TfidfTransformer\n",
    "from nltk.stem.snowball import SnowballStemmer\n",
    "from scipy.spatial import distance\n",
    "from matplotlib import pyplot as plt\n",
    "from nltk.tokenize import PunktSentenceTokenizer,sent_tokenize, word_tokenize"
   ]
  },
  {
   "cell_type": "code",
   "execution_count": 4,
   "metadata": {
    "scrolled": true
   },
   "outputs": [
    {
     "name": "stderr",
     "output_type": "stream",
     "text": [
      "C:\\Users\\asus\\anaconda3\\lib\\site-packages\\IPython\\core\\interactiveshell.py:3165: DtypeWarning: Columns (1,4,5,6,13,14,15,16) have mixed types.Specify dtype option on import or set low_memory=False.\n",
      "  has_raised = await self.run_ast_nodes(code_ast.body, cell_name,\n"
     ]
    }
   ],
   "source": [
    "df = pd.read_csv('C:\\\\Users\\\\asus\\\\Covid Data\\\\metadata.csv')\n",
    "doc_paths = 'C:\\\\Users\\\\asus\\\\Covid Data\\\\pdf_json.json'\n",
    "df.sha.fillna(\"\", inplace=True)\n",
    "\n",
    "#get text for articles that are available\n"
   ]
  },
  {
   "cell_type": "code",
   "execution_count": 5,
   "metadata": {},
   "outputs": [
    {
     "data": {
      "text/html": [
       "<div>\n",
       "<style scoped>\n",
       "    .dataframe tbody tr th:only-of-type {\n",
       "        vertical-align: middle;\n",
       "    }\n",
       "\n",
       "    .dataframe tbody tr th {\n",
       "        vertical-align: top;\n",
       "    }\n",
       "\n",
       "    .dataframe thead th {\n",
       "        text-align: right;\n",
       "    }\n",
       "</style>\n",
       "<table border=\"1\" class=\"dataframe\">\n",
       "  <thead>\n",
       "    <tr style=\"text-align: right;\">\n",
       "      <th></th>\n",
       "      <th>cord_uid</th>\n",
       "      <th>sha</th>\n",
       "      <th>source_x</th>\n",
       "      <th>title</th>\n",
       "      <th>doi</th>\n",
       "      <th>pmcid</th>\n",
       "      <th>pubmed_id</th>\n",
       "      <th>license</th>\n",
       "      <th>abstract</th>\n",
       "      <th>publish_time</th>\n",
       "      <th>authors</th>\n",
       "      <th>journal</th>\n",
       "      <th>mag_id</th>\n",
       "      <th>who_covidence_id</th>\n",
       "      <th>arxiv_id</th>\n",
       "      <th>pdf_json_files</th>\n",
       "      <th>pmc_json_files</th>\n",
       "      <th>url</th>\n",
       "      <th>s2_id</th>\n",
       "    </tr>\n",
       "  </thead>\n",
       "  <tbody>\n",
       "    <tr>\n",
       "      <th>0</th>\n",
       "      <td>ug7v899j</td>\n",
       "      <td>d1aafb70c066a2068b02786f8929fd9c900897fb</td>\n",
       "      <td>PMC</td>\n",
       "      <td>Clinical features of culture-proven Mycoplasma...</td>\n",
       "      <td>10.1186/1471-2334-1-6</td>\n",
       "      <td>PMC35282</td>\n",
       "      <td>11472636</td>\n",
       "      <td>no-cc</td>\n",
       "      <td>OBJECTIVE: This retrospective chart review des...</td>\n",
       "      <td>2001-07-04</td>\n",
       "      <td>Madani, Tariq A; Al-Ghamdi, Aisha A</td>\n",
       "      <td>BMC Infect Dis</td>\n",
       "      <td>NaN</td>\n",
       "      <td>NaN</td>\n",
       "      <td>NaN</td>\n",
       "      <td>document_parses/pdf_json/d1aafb70c066a2068b027...</td>\n",
       "      <td>document_parses/pmc_json/PMC35282.xml.json</td>\n",
       "      <td>https://www.ncbi.nlm.nih.gov/pmc/articles/PMC3...</td>\n",
       "      <td>NaN</td>\n",
       "    </tr>\n",
       "    <tr>\n",
       "      <th>1</th>\n",
       "      <td>02tnwd4m</td>\n",
       "      <td>6b0567729c2143a66d737eb0a2f63f2dce2e5a7d</td>\n",
       "      <td>PMC</td>\n",
       "      <td>Nitric oxide: a pro-inflammatory mediator in l...</td>\n",
       "      <td>10.1186/rr14</td>\n",
       "      <td>PMC59543</td>\n",
       "      <td>11667967</td>\n",
       "      <td>no-cc</td>\n",
       "      <td>Inflammatory diseases of the respiratory tract...</td>\n",
       "      <td>2000-08-15</td>\n",
       "      <td>Vliet, Albert van der; Eiserich, Jason P; Cros...</td>\n",
       "      <td>Respir Res</td>\n",
       "      <td>NaN</td>\n",
       "      <td>NaN</td>\n",
       "      <td>NaN</td>\n",
       "      <td>document_parses/pdf_json/6b0567729c2143a66d737...</td>\n",
       "      <td>document_parses/pmc_json/PMC59543.xml.json</td>\n",
       "      <td>https://www.ncbi.nlm.nih.gov/pmc/articles/PMC5...</td>\n",
       "      <td>NaN</td>\n",
       "    </tr>\n",
       "    <tr>\n",
       "      <th>2</th>\n",
       "      <td>ejv2xln0</td>\n",
       "      <td>06ced00a5fc04215949aa72528f2eeaae1d58927</td>\n",
       "      <td>PMC</td>\n",
       "      <td>Surfactant protein-D and pulmonary host defense</td>\n",
       "      <td>10.1186/rr19</td>\n",
       "      <td>PMC59549</td>\n",
       "      <td>11667972</td>\n",
       "      <td>no-cc</td>\n",
       "      <td>Surfactant protein-D (SP-D) participates in th...</td>\n",
       "      <td>2000-08-25</td>\n",
       "      <td>Crouch, Erika C</td>\n",
       "      <td>Respir Res</td>\n",
       "      <td>NaN</td>\n",
       "      <td>NaN</td>\n",
       "      <td>NaN</td>\n",
       "      <td>document_parses/pdf_json/06ced00a5fc04215949aa...</td>\n",
       "      <td>document_parses/pmc_json/PMC59549.xml.json</td>\n",
       "      <td>https://www.ncbi.nlm.nih.gov/pmc/articles/PMC5...</td>\n",
       "      <td>NaN</td>\n",
       "    </tr>\n",
       "    <tr>\n",
       "      <th>3</th>\n",
       "      <td>2b73a28n</td>\n",
       "      <td>348055649b6b8cf2b9a376498df9bf41f7123605</td>\n",
       "      <td>PMC</td>\n",
       "      <td>Role of endothelin-1 in lung disease</td>\n",
       "      <td>10.1186/rr44</td>\n",
       "      <td>PMC59574</td>\n",
       "      <td>11686871</td>\n",
       "      <td>no-cc</td>\n",
       "      <td>Endothelin-1 (ET-1) is a 21 amino acid peptide...</td>\n",
       "      <td>2001-02-22</td>\n",
       "      <td>Fagan, Karen A; McMurtry, Ivan F; Rodman, David M</td>\n",
       "      <td>Respir Res</td>\n",
       "      <td>NaN</td>\n",
       "      <td>NaN</td>\n",
       "      <td>NaN</td>\n",
       "      <td>document_parses/pdf_json/348055649b6b8cf2b9a37...</td>\n",
       "      <td>document_parses/pmc_json/PMC59574.xml.json</td>\n",
       "      <td>https://www.ncbi.nlm.nih.gov/pmc/articles/PMC5...</td>\n",
       "      <td>NaN</td>\n",
       "    </tr>\n",
       "    <tr>\n",
       "      <th>4</th>\n",
       "      <td>9785vg6d</td>\n",
       "      <td>5f48792a5fa08bed9f56016f4981ae2ca6031b32</td>\n",
       "      <td>PMC</td>\n",
       "      <td>Gene expression in epithelial cells in respons...</td>\n",
       "      <td>10.1186/rr61</td>\n",
       "      <td>PMC59580</td>\n",
       "      <td>11686888</td>\n",
       "      <td>no-cc</td>\n",
       "      <td>Respiratory syncytial virus (RSV) and pneumoni...</td>\n",
       "      <td>2001-05-11</td>\n",
       "      <td>Domachowske, Joseph B; Bonville, Cynthia A; Ro...</td>\n",
       "      <td>Respir Res</td>\n",
       "      <td>NaN</td>\n",
       "      <td>NaN</td>\n",
       "      <td>NaN</td>\n",
       "      <td>document_parses/pdf_json/5f48792a5fa08bed9f560...</td>\n",
       "      <td>document_parses/pmc_json/PMC59580.xml.json</td>\n",
       "      <td>https://www.ncbi.nlm.nih.gov/pmc/articles/PMC5...</td>\n",
       "      <td>NaN</td>\n",
       "    </tr>\n",
       "  </tbody>\n",
       "</table>\n",
       "</div>"
      ],
      "text/plain": [
       "   cord_uid                                       sha source_x  \\\n",
       "0  ug7v899j  d1aafb70c066a2068b02786f8929fd9c900897fb      PMC   \n",
       "1  02tnwd4m  6b0567729c2143a66d737eb0a2f63f2dce2e5a7d      PMC   \n",
       "2  ejv2xln0  06ced00a5fc04215949aa72528f2eeaae1d58927      PMC   \n",
       "3  2b73a28n  348055649b6b8cf2b9a376498df9bf41f7123605      PMC   \n",
       "4  9785vg6d  5f48792a5fa08bed9f56016f4981ae2ca6031b32      PMC   \n",
       "\n",
       "                                               title                    doi  \\\n",
       "0  Clinical features of culture-proven Mycoplasma...  10.1186/1471-2334-1-6   \n",
       "1  Nitric oxide: a pro-inflammatory mediator in l...           10.1186/rr14   \n",
       "2    Surfactant protein-D and pulmonary host defense           10.1186/rr19   \n",
       "3               Role of endothelin-1 in lung disease           10.1186/rr44   \n",
       "4  Gene expression in epithelial cells in respons...           10.1186/rr61   \n",
       "\n",
       "      pmcid pubmed_id license  \\\n",
       "0  PMC35282  11472636   no-cc   \n",
       "1  PMC59543  11667967   no-cc   \n",
       "2  PMC59549  11667972   no-cc   \n",
       "3  PMC59574  11686871   no-cc   \n",
       "4  PMC59580  11686888   no-cc   \n",
       "\n",
       "                                            abstract publish_time  \\\n",
       "0  OBJECTIVE: This retrospective chart review des...   2001-07-04   \n",
       "1  Inflammatory diseases of the respiratory tract...   2000-08-15   \n",
       "2  Surfactant protein-D (SP-D) participates in th...   2000-08-25   \n",
       "3  Endothelin-1 (ET-1) is a 21 amino acid peptide...   2001-02-22   \n",
       "4  Respiratory syncytial virus (RSV) and pneumoni...   2001-05-11   \n",
       "\n",
       "                                             authors         journal  mag_id  \\\n",
       "0                Madani, Tariq A; Al-Ghamdi, Aisha A  BMC Infect Dis     NaN   \n",
       "1  Vliet, Albert van der; Eiserich, Jason P; Cros...      Respir Res     NaN   \n",
       "2                                    Crouch, Erika C      Respir Res     NaN   \n",
       "3  Fagan, Karen A; McMurtry, Ivan F; Rodman, David M      Respir Res     NaN   \n",
       "4  Domachowske, Joseph B; Bonville, Cynthia A; Ro...      Respir Res     NaN   \n",
       "\n",
       "  who_covidence_id arxiv_id  \\\n",
       "0              NaN      NaN   \n",
       "1              NaN      NaN   \n",
       "2              NaN      NaN   \n",
       "3              NaN      NaN   \n",
       "4              NaN      NaN   \n",
       "\n",
       "                                      pdf_json_files  \\\n",
       "0  document_parses/pdf_json/d1aafb70c066a2068b027...   \n",
       "1  document_parses/pdf_json/6b0567729c2143a66d737...   \n",
       "2  document_parses/pdf_json/06ced00a5fc04215949aa...   \n",
       "3  document_parses/pdf_json/348055649b6b8cf2b9a37...   \n",
       "4  document_parses/pdf_json/5f48792a5fa08bed9f560...   \n",
       "\n",
       "                               pmc_json_files  \\\n",
       "0  document_parses/pmc_json/PMC35282.xml.json   \n",
       "1  document_parses/pmc_json/PMC59543.xml.json   \n",
       "2  document_parses/pmc_json/PMC59549.xml.json   \n",
       "3  document_parses/pmc_json/PMC59574.xml.json   \n",
       "4  document_parses/pmc_json/PMC59580.xml.json   \n",
       "\n",
       "                                                 url  s2_id  \n",
       "0  https://www.ncbi.nlm.nih.gov/pmc/articles/PMC3...    NaN  \n",
       "1  https://www.ncbi.nlm.nih.gov/pmc/articles/PMC5...    NaN  \n",
       "2  https://www.ncbi.nlm.nih.gov/pmc/articles/PMC5...    NaN  \n",
       "3  https://www.ncbi.nlm.nih.gov/pmc/articles/PMC5...    NaN  \n",
       "4  https://www.ncbi.nlm.nih.gov/pmc/articles/PMC5...    NaN  "
      ]
     },
     "execution_count": 5,
     "metadata": {},
     "output_type": "execute_result"
    }
   ],
   "source": [
    "df.head()"
   ]
  },
  {
   "cell_type": "code",
   "execution_count": 6,
   "metadata": {},
   "outputs": [
    {
     "data": {
      "text/plain": [
       "(522159, 19)"
      ]
     },
     "execution_count": 6,
     "metadata": {},
     "output_type": "execute_result"
    }
   ],
   "source": [
    "df.shape"
   ]
  },
  {
   "cell_type": "code",
   "execution_count": 7,
   "metadata": {},
   "outputs": [],
   "source": [
    "def get_text(sha):\n",
    "    if sha == \"\":\n",
    "        return \"\"\n",
    "    document_path = [x for x in doc_paths if sha in x]\n",
    "    if not document_path:\n",
    "        return \"\"\n",
    "    with open(document_path[0]) as f:\n",
    "        file = json.load(f)\n",
    "        full_text = []\n",
    "        #iterate over abstract and body part\n",
    "        for part in ['abstract', 'body_text']:\n",
    "            # iterate over each paragraph\n",
    "            for text_part in file[part]:\n",
    "                text = text_part['text']\n",
    "                # remove citations from each paragraph\n",
    "                for citation in text_part['cite_spans']:\n",
    "                    text = text.replace(citation['text'], \"\")\n",
    "                full_text.append(text)\n",
    "            \n",
    "        return str.join(' ', full_text)\n"
   ]
  },
  {
   "cell_type": "code",
   "execution_count": 8,
   "metadata": {},
   "outputs": [
    {
     "name": "stdout",
     "output_type": "stream",
     "text": [
      "Wall time: 8.99 s\n"
     ]
    }
   ],
   "source": [
    "%time df['text'] = df.apply(lambda x: get_text(x.sha), axis=1)"
   ]
  },
  {
   "cell_type": "code",
   "execution_count": 9,
   "metadata": {},
   "outputs": [],
   "source": [
    "from nltk.stem import WordNetLemmatizer\n",
    "analyzer = CountVectorizer().build_analyzer()\n",
    "lemmatizer = WordNetLemmatizer()\n",
    "def preprocess1(doc):\n",
    "    doc=doc.lower()\n",
    "    return str.join(\" \", [lemmatizer.lemmatize(w) for w in analyzer(doc)])\n",
    "\n",
    "def preprocess_row1(row):\n",
    "    text = str.join(' ', [str(row.title), str(row.abstract), str(row.text)])\n",
    "    return preprocess1(text)\n"
   ]
  },
  {
   "cell_type": "code",
   "execution_count": 10,
   "metadata": {},
   "outputs": [
    {
     "name": "stdout",
     "output_type": "stream",
     "text": [
      "Wall time: 9min 34s\n"
     ]
    }
   ],
   "source": [
    "%time df['lempreprocessed'] = df.apply(lambda x: preprocess_row1(x), axis=1)"
   ]
  },
  {
   "cell_type": "code",
   "execution_count": 46,
   "metadata": {},
   "outputs": [
    {
     "name": "stdout",
     "output_type": "stream",
     "text": [
      "Wall time: 4min 17s\n",
      "Wall time: 1.02 s\n"
     ]
    },
    {
     "data": {
      "text/plain": [
       "TfidfTransformer()"
      ]
     },
     "execution_count": 46,
     "metadata": {},
     "output_type": "execute_result"
    }
   ],
   "source": [
    "cv = CountVectorizer(max_df=0.95, stop_words='english')\n",
    "%time word_count = cv.fit_transform(df.lempreprocessed)\n",
    "tfidf_tr = TfidfTransformer(smooth_idf=True, use_idf=True)\n",
    "%time tfidf_tr.fit(word_count)"
   ]
  },
  {
   "cell_type": "code",
   "execution_count": 44,
   "metadata": {},
   "outputs": [],
   "source": [
    "def get_word_vector(document):\n",
    "    w_vector = tfidf_tr.transform(cv.transform([document]))\n",
    "    return w_vector "
   ]
  },
  {
   "cell_type": "markdown",
   "metadata": {},
   "source": [
    "sample_tfidfvectorizer= get_word_vector(df.iloc[0].lempreprocessed)\n",
    "df1 = pd.DataFrame(sample_tfidfvectorizer.T.todense(), index=cv.get_feature_names(), columns=[\"tfidf\"]) \n",
    "df1.sort_values(by=[\"tfidf\"],ascending=False)"
   ]
  },
  {
   "cell_type": "code",
   "execution_count": 13,
   "metadata": {},
   "outputs": [
    {
     "name": "stdout",
     "output_type": "stream",
     "text": [
      "Wall time: 1h 2min 21s\n"
     ]
    }
   ],
   "source": [
    "%time df['word_vector'] = df.lempreprocessed.apply(get_word_vector)"
   ]
  },
  {
   "cell_type": "markdown",
   "metadata": {},
   "source": [
    "feature_names = cv.get_feature_names()\n",
    "def get_words_with_value(w_vector):\n",
    "    return sorted([(feature_names[ind], val) for ind, val in zip(w_vector.indices, w_vector.data)], key=lambda x: x[1], reverse=True)"
   ]
  },
  {
   "cell_type": "code",
   "execution_count": 14,
   "metadata": {},
   "outputs": [],
   "source": [
    "def calculate_distance_between_words_vectors(search_words_indices, search_vec, document_vector):\n",
    "    document_vec = document_vector[0, search_words_indices].toarray()\n",
    "    return distance.euclidean([search_vec], document_vec)"
   ]
  },
  {
   "cell_type": "markdown",
   "metadata": {},
   "source": [
    "def get_rel_doc\n",
    "search_vector = get_word_vector(preprocess(topic))\n",
    "search_words_indices = search_vector.indices\n",
    "search_vec = search_vector.data\n",
    "distance_idx = df.apply(lambda x: calculate_distance_between_words_vectors(search_words_indices, search_vec, x.word_vector), axis=1)\n",
    "relevant_indexes = distance_idx.sort_values().head(10).index\n",
    "result_columns = [\"title\", \"doi\", \"pmcid\", \"license\", \"authors\"]\n",
    "result = df[result_columns].iloc[relevant_indexes].fillna(\"\")\n",
    "return result  \n"
   ]
  },
  {
   "cell_type": "code",
   "execution_count": 15,
   "metadata": {},
   "outputs": [],
   "source": [
    "def display_friendly_results(df_result):\n",
    "    display_columns = [\n",
    " 'title',\n",
    " 'doi',\n",
    " 'abstract','authors',\n",
    " 'lempreprocessed',\n",
    " ]\n",
    "    display(df_result[display_columns].reset_index(drop=True))\n"
   ]
  },
  {
   "cell_type": "code",
   "execution_count": 27,
   "metadata": {},
   "outputs": [],
   "source": [
    "def get_related_documents(text, number_of_documents):    \n",
    "    search_vector = get_word_vector(preprocess1(text))\n",
    "    search_words_indices = search_vector.indices\n",
    "    search_vec = search_vector[0, search_words_indices].toarray()\n",
    "    distance_idx = df.apply(lambda x: calculate_distance_between_words_vectors(search_words_indices, search_vec, x.word_vector), axis=1)\n",
    "    relevant_indexes = distance_idx.sort_values().head(number_of_documents).index \n",
    "    result_columns = [\n",
    " 'title',\n",
    " 'doi',\n",
    " 'abstract','authors',\n",
    " 'lempreprocessed',\n",
    "]\n",
    "    result = df[result_columns].iloc[relevant_indexes].fillna(\"\")\n",
    "    return result"
   ]
  },
  {
   "cell_type": "code",
   "execution_count": 23,
   "metadata": {},
   "outputs": [],
   "source": [
    "topics = {\n",
    "    \"What is known about transmission, incubation, and environmental stability?\" :\n",
    "    [\n",
    "        \"Range of incubation periods for the disease in humans (and how this varies across age and health status) and how long individuals are contagious, even after recovery.\",\n",
    "        \"Prevalence of asymptomatic shedding and transmission (e.g., particularly children).\",\n",
    "       \n",
    "    ],\n",
    "    \"What do we know about COVID-19 risk factors?\":\n",
    "    [\n",
    "        \"Data on potential risks factors\",\n",
    "        \n",
    "        \"Transmission dynamics of the virus, including the basic reproductive number, incubation period, serial interval, modes of transmission and environmental factors\",\n",
    "        \n",
    "    ],\n",
    "    \"What do we know about virus genetics, origin, and evolution?\":\n",
    "    [\n",
    "        \"Real-time tracking of whole genomes and a mechanism for coordinating the rapid dissemination of that information to inform the development of diagnostics and therapeutics and to track variations of the virus over time.\",\n",
    "        \"Access to geographic and temporal diverse sample sets to understand geographic distribution and genomic differences, and determine whether there is more than one strain in circulation. Multi-lateral agreements such as the Nagoya Protocol could be leveraged.\",\n",
    "        \"Evidence that livestock could be infected (e.g., field surveillance, genetic sequencing, receptor binding) and serve as a reservoir after the epidemic appears to be over.\",\n",
    "        \"Evidence of whether farmers are infected, and whether farmers could have played a role in the origin.\",\n",
    "        \"Surveillance of mixed wildlife- livestock farms for SARS-CoV-2 and other coronaviruses in Southeast Asia.\",\n",
    "        \"Experimental infections to test host range for this pathogen.\",\n",
    "        \"Animal host(s) and any evidence of continued spill-over to humans\",\n",
    "        \"Socioeconomic and behavioral risk factors for this spill-over\",\n",
    "        \"Sustainable risk reduction strategies\"\n",
    "    ],\n",
    "    \"What do we know about vaccines and therapeutics?\":\n",
    "    [\n",
    "        \"Effectiveness of drugs being developed and tried to treat COVID-19 patients.\",\n",
    "        \"Clinical and bench trials to investigate less common viral inhibitors against COVID-19 such as naproxen, clarithromycin, and minocyclinethat that may exert effects on viral replication.\",\n",
    "        \"Methods evaluating potential complication of Antibody-Dependent Enhancement (ADE) in vaccine recipients.\",\n",
    "        \"Exploration of use of best animal models and their predictive value for a human vaccine.\",\n",
    "        \"Capabilities to discover a therapeutic (not vaccine) for the disease, and clinical effectiveness studies to discover therapeutics, to include antiviral agents.\",\n",
    "        \"Alternative models to aid decision makers in determining how to prioritize and distribute scarce, newly proven therapeutics as production ramps up. This could include identifying approaches for expanding production capacity to ensure equitable and timely distribution to populations in need.\",\n",
    "        \"Efforts targeted at a universal coronavirus vaccine.\",\n",
    "        \"Efforts to develop animal models and standardize challenge studies\",\n",
    "        \"Efforts to develop prophylaxis clinical studies and prioritize in healthcare workers\",\n",
    "        \"Approaches to evaluate risk for enhanced disease after vaccination\",\n",
    "        \"Assays to evaluate vaccine immune response and process development for vaccines, alongside suitable animal models [in conjunction with therapeutics],\",\n",
    "    ],\n",
    "    \"What do we know about diagnostics and surveillance?\":\n",
    "    [\n",
    "        \"How widespread current exposure is to be able to make immediate policy recommendations on mitigation measures. Denominators for testing and a mechanism for rapidly sharing that information, including demographics, to the extent possible. Sampling methods to determine asymptomatic disease (e.g., use of serosurveys (such as convalescent samples) and early detection of disease (e.g., use of screening of neutralizing antibodies such as ELISAs).\",\n",
    "        \"Efforts to increase capacity on existing diagnostic platforms and tap into existing surveillance platforms.\",\n",
    "        \"Recruitment, support, and coordination of local expertise and capacity (public, private—commercial, and non-profit, including academic), including legal, ethical, communications, and operational issues.\",\n",
    "        \"National guidance and guidelines about best practices to states (e.g., how states might leverage universities and private laboratories for testing purposes, communications to public health officials and the public).\",\n",
    "        \"Development of a point-of-care test (like a rapid influenza test) and rapid bed-side tests, recognizing the tradeoffs between speed, accessibility, and accuracy.\",\n",
    "        \"Rapid design and execution of targeted surveillance experiments calling for all potential testers using PCR in a defined area to start testing and report to a specific entity. These experiments could aid in collecting longitudinal samples, which are critical to understanding the impact of ad hoc local interventions (which also need to be recorded).\",\n",
    "        \"Separation of assay development issues from instruments, and the role of the private sector to help quickly migrate assays onto those devices.\",\n",
    "        \"Efforts to track the evolution of the virus (i.e., genetic drift or mutations) and avoid locking into specific reagents and surveillance/detection schemes.\",\n",
    "        \"Latency issues and when there is sufficient viral load to detect the pathogen, and understanding of what is needed in terms of biological and environmental sampling.\",\n",
    "        \"Use of diagnostics such as host response markers (e.g., cytokines) to detect early disease or predict severe disease progression, which would be important to understanding best clinical practice and efficacy of therapeutic interventions.\",\n",
    "        \"Policies and protocols for screening and testing.\",\n",
    "        \"Policies to mitigate the effects on supplies associated with mass testing, including swabs and reagents.\",\n",
    "        \"Technology roadmap for diagnostics.\",\n",
    "        \"Barriers to developing and scaling up new diagnostic tests (e.g., market forces), how future coalition and accelerator models (e.g., Coalition for Epidemic Preparedness Innovations) could provide critical funding for diagnostics, and opportunities for a streamlined regulatory environment.\",\n",
    "        \"New platforms and technology (e.g., CRISPR) to improve response times and employ more holistic approaches to COVID-19 and future diseases.\",\n",
    "        \"Coupling genomics and diagnostic testing on a large scale.\",\n",
    "        \"Enhance capabilities for rapid sequencing and bioinformatics to target regions of the genome that will allow specificity for a particular variant.\",\n",
    "        \"Enhance capacity (people, technology, data) for sequencing with advanced analytics for unknown pathogens, and explore capabilities for distinguishing naturally-occurring pathogens from intentional.\",\n",
    "        \"One Health surveillance of humans and potential sources of future spillover or ongoing exposure for this organism and future pathogens, including both evolutionary hosts (e.g., bats) and transmission hosts (e.g., heavily trafficked and farmed wildlife and domestic food and companion species), inclusive of environmental, demographic, and occupational risk factors.\"\n",
    "    ],\n",
    "    \"What do we know about non-pharmaceutical interventions?\":\n",
    "    [\n",
    "        \"Guidance on ways to scale up NPIs in a more coordinated way (e.g., establish funding, infrastructure and authorities to support real time, authoritative (qualified participants) collaboration with all states to gain consensus on consistent guidance and to mobilize resources to geographic areas where critical shortfalls are identified) to give us time to enhance our health care delivery system capacity to respond to an increase in cases.\",\n",
    "        \"Rapid design and execution of experiments to examine and compare NPIs currently being implemented. DHS Centers for Excellence could potentially be leveraged to conduct these experiments.\",\n",
    "        \"Rapid assessment of the likely efficacy of school closures, travel bans, bans on mass gatherings of various sizes, and other social distancing approaches.\",\n",
    "        \"Methods to control the spread in communities, barriers to compliance and how these vary among different populations.\",\n",
    "        \"Models of potential interventions to predict costs and benefits that take account of such factors as race, income, disability, age, geographic location, immigration status, housing status, employment status, and health insurance status.\",\n",
    "        \"Policy changes necessary to enable the compliance of individuals with limited resources and the underserved with NPIs.\",\n",
    "        \"Research on why people fail to comply with public health advice, even if they want to do so (e.g., social or financial costs may be too high).\",\n",
    "        \"Research on the economic impact of this or any pandemic. This would include identifying policy and programmatic alternatives that lessen/mitigate risks to critical government services, food distribution and supplies, access to critical household supplies, and access to health diagnoses, treatment, and needed care, regardless of ability to pay.\"\n",
    "    ],\n",
    "    \"What has been published about medical care?\":\n",
    "    [\n",
    "        \"Resources to support skilled nursing facilities and long term care facilities.\",\n",
    "        \"Mobilization of surge medical staff to address shortages in overwhelmed communities\",\n",
    "        \"Age-adjusted mortality data for Acute Respiratory Distress Syndrome (ARDS) with/without other organ failure – particularly for viral etiologies\",\n",
    "        \"Extracorporeal membrane oxygenation (ECMO) outcomes data of COVID-19 patients\",\n",
    "        \"Outcomes data for COVID-19 after mechanical ventilation adjusted for age.\",\n",
    "        \"Knowledge of the frequency, manifestations, and course of extrapulmonary manifestations of COVID-19, including, but not limited to, possible cardiomyopathy and cardiac arrest.\",\n",
    "        \"Application of regulatory standards (e.g., EUA, CLIA) and ability to adapt care to crisis standards of care level.\",\n",
    "        \"Approaches for encouraging and facilitating the production of elastomeric respirators, which can save thousands of N95 masks.\",\n",
    "        \"Best telemedicine practices, barriers and faciitators, and specific actions to remove/expand them within and across state boundaries.\",\n",
    "        \"Guidance on the simple things people can do at home to take care of sick people and manage disease.\",\n",
    "        \"Oral medications that might potentially work.\",\n",
    "        \"Use of AI in real-time health care delivery to evaluate interventions, risk factors, and outcomes in a way that could not be done manually.\",\n",
    "        \"Best practices and critical challenges and innovative solutions and technologies in hospital flow and organization, workforce protection, workforce allocation, community-based support resources, payment, and supply chain management to enhance capacity, efficiency, and outcomes.\",\n",
    "        \"Efforts to define the natural history of disease to inform clinical care, public health interventions, infection prevention control, transmission, and clinical trials\",\n",
    "        \"Efforts to develop a core clinical outcome set to maximize usability of data across a range of trials\",\n",
    "        \"Efforts to determine adjunctive and supportive interventions that can improve the clinical outcomes of infected patients (e.g. steroids, high flow oxygen)\"\n",
    "    ],\n",
    "    \"What has been published about information sharing and inter-sectoral collaboration?\":\n",
    "    [\n",
    "        \"Methods for coordinating data-gathering with standardized nomenclature.\",\n",
    "        \"Sharing response information among planners, providers, and others.\",\n",
    "        \"Understanding and mitigating barriers to information-sharing.\",\n",
    "        \"How to recruit, support, and coordinate local (non-Federal) expertise and capacity relevant to public health emergency response (public, private, commercial and non-profit, including academic).\",\n",
    "        \"Integration of federal/state/local public health surveillance systems.\",\n",
    "        \"Value of investments in baseline public health response infrastructure preparedness\",\n",
    "        \"Modes of communicating with target high-risk populations (elderly, health care workers).\",\n",
    "        \"Risk communication and guidelines that are easy to understand and follow (include targeting at risk populations’ families too).\",\n",
    "        \"Communication that indicates potential risk of disease to all population groups.\",\n",
    "        \"Misunderstanding around containment and mitigation.\",\n",
    "        \"Action plan to mitigate gaps and problems of inequity in the Nation’s public health capability, capacity, and funding to ensure all citizens in need are supported and can access information, surveillance, and treatment.\",\n",
    "        \"Measures to reach marginalized and disadvantaged populations.\",\n",
    "        \"Data systems and research priorities and agendas incorporate attention to the needs and circumstances of disadvantaged populations and underrepresented minorities.\",\n",
    "        \"Mitigating threats to incarcerated people from COVID-19, assuring access to information, prevention, diagnosis, and treatment.\",\n",
    "        \"Understanding coverage policies (barriers and opportunities) related to testing, treatment, and care\"\n",
    "    ],\n",
    "    \"What has been published about ethical and social science considerations?\":\n",
    "    [\n",
    "        \"Efforts to articulate and translate existing ethical principles and standards to salient issues in COVID-2019\",\n",
    "        \"Efforts to embed ethics across all thematic areas, engage with novel ethical issues that arise and coordinate to minimize duplication of oversight\",\n",
    "        \"Efforts to support sustained education, access, and capacity building in the area of ethics\",\n",
    "        \"Efforts to establish a team at WHO that will be integrated within multidisciplinary research and operational platforms and that will connect with existing and expanded global networks of social sciences.\",\n",
    "        \"Efforts to develop qualitative assessment frameworks to systematically collect information related to local barriers and enablers for the uptake and adherence to public health measures for prevention and control. This includes the rapid identification of the secondary impacts of these measures. (e.g. use of surgical masks, modification of health seeking behaviors for SRH, school closures)\",\n",
    "        \"Efforts to identify how the burden of responding to the outbreak and implementing public health measures affects the physical and psychological health of those providing care for Covid-19 patients and identify the immediate needs that must be addressed.\",\n",
    "        \"Efforts to identify the underlying drivers of fear, anxiety and stigma that fuel misinformation and rumor, particularly through social media.\",\n",
    "    ]\n",
    "}"
   ]
  },
  {
   "cell_type": "code",
   "execution_count": 24,
   "metadata": {},
   "outputs": [],
   "source": [
    "l=[]"
   ]
  },
  {
   "cell_type": "code",
   "execution_count": 25,
   "metadata": {},
   "outputs": [],
   "source": [
    "def display_topics_results(question):\n",
    "    for topic in topics[question]:\n",
    "        res=get_related_documents(topic,6)\n",
    "        for i in res.index:\n",
    "            l.append(res['lempreprocessed'][i])\n",
    "        display_friendly_results(res)"
   ]
  },
  {
   "cell_type": "code",
   "execution_count": 29,
   "metadata": {
    "scrolled": true
   },
   "outputs": [
    {
     "data": {
      "text/html": [
       "<div>\n",
       "<style scoped>\n",
       "    .dataframe tbody tr th:only-of-type {\n",
       "        vertical-align: middle;\n",
       "    }\n",
       "\n",
       "    .dataframe tbody tr th {\n",
       "        vertical-align: top;\n",
       "    }\n",
       "\n",
       "    .dataframe thead th {\n",
       "        text-align: right;\n",
       "    }\n",
       "</style>\n",
       "<table border=\"1\" class=\"dataframe\">\n",
       "  <thead>\n",
       "    <tr style=\"text-align: right;\">\n",
       "      <th></th>\n",
       "      <th>title</th>\n",
       "      <th>doi</th>\n",
       "      <th>abstract</th>\n",
       "      <th>authors</th>\n",
       "      <th>lempreprocessed</th>\n",
       "    </tr>\n",
       "  </thead>\n",
       "  <tbody>\n",
       "    <tr>\n",
       "      <th>0</th>\n",
       "      <td>Delivering urgent urological surgery during th...</td>\n",
       "      <td></td>\n",
       "      <td>Since first reported in December 2019, the nov...</td>\n",
       "      <td>Paramore, Louise; Yang, Bob; Abdelmotagly, Yeh...</td>\n",
       "      <td>delivering urgent urological surgery during th...</td>\n",
       "    </tr>\n",
       "    <tr>\n",
       "      <th>1</th>\n",
       "      <td>Delivering urgent urological surgery during th...</td>\n",
       "      <td>10.1111/bju.15110</td>\n",
       "      <td>Since first reported in December 2019, the nov...</td>\n",
       "      <td>Paramore, Louise; Yang, Bob; Abdelmotagly, Yeh...</td>\n",
       "      <td>delivering urgent urological surgery during th...</td>\n",
       "    </tr>\n",
       "    <tr>\n",
       "      <th>2</th>\n",
       "      <td>Association between the Severity of Influenza ...</td>\n",
       "      <td>10.1371/journal.pone.0148506</td>\n",
       "      <td>BACKGROUND: In early 2013, a novel avian-origi...</td>\n",
       "      <td>Virlogeux, Victor; Yang, Juan; Fang, Vicky J.;...</td>\n",
       "      <td>association between the severity of influenza ...</td>\n",
       "    </tr>\n",
       "    <tr>\n",
       "      <th>3</th>\n",
       "      <td>The new coronavirus-cОvid-19 in Uzbekistan</td>\n",
       "      <td></td>\n",
       "      <td>The article includes the latest researches on ...</td>\n",
       "      <td>Matnazarova, Gulbahor; Mirtazaev, Omonturdi; B...</td>\n",
       "      <td>the new coronavirus cоvid 19 in uzbekistan the...</td>\n",
       "    </tr>\n",
       "    <tr>\n",
       "      <th>4</th>\n",
       "      <td>Pre-symptomatic transmission of novel coronavi...</td>\n",
       "      <td></td>\n",
       "      <td>We used contact tracing to document how COVID-...</td>\n",
       "      <td>Kong, Dechuan; Zheng, Yang; Wu, Huanyu; Pan, H...</td>\n",
       "      <td>pre symptomatic transmission of novel coronavi...</td>\n",
       "    </tr>\n",
       "    <tr>\n",
       "      <th>5</th>\n",
       "      <td>Pre‐symptomatic transmission of novel coronavi...</td>\n",
       "      <td>10.1111/irv.12773</td>\n",
       "      <td>We used contact tracing to document how COVID‐...</td>\n",
       "      <td>Kong, Dechuan; Zheng, Yang; Wu, Huanyu; Pan, H...</td>\n",
       "      <td>pre symptomatic transmission of novel coronavi...</td>\n",
       "    </tr>\n",
       "  </tbody>\n",
       "</table>\n",
       "</div>"
      ],
      "text/plain": [
       "                                               title  \\\n",
       "0  Delivering urgent urological surgery during th...   \n",
       "1  Delivering urgent urological surgery during th...   \n",
       "2  Association between the Severity of Influenza ...   \n",
       "3         The new coronavirus-cОvid-19 in Uzbekistan   \n",
       "4  Pre-symptomatic transmission of novel coronavi...   \n",
       "5  Pre‐symptomatic transmission of novel coronavi...   \n",
       "\n",
       "                            doi  \\\n",
       "0                                 \n",
       "1             10.1111/bju.15110   \n",
       "2  10.1371/journal.pone.0148506   \n",
       "3                                 \n",
       "4                                 \n",
       "5             10.1111/irv.12773   \n",
       "\n",
       "                                            abstract  \\\n",
       "0  Since first reported in December 2019, the nov...   \n",
       "1  Since first reported in December 2019, the nov...   \n",
       "2  BACKGROUND: In early 2013, a novel avian-origi...   \n",
       "3  The article includes the latest researches on ...   \n",
       "4  We used contact tracing to document how COVID-...   \n",
       "5  We used contact tracing to document how COVID‐...   \n",
       "\n",
       "                                             authors  \\\n",
       "0  Paramore, Louise; Yang, Bob; Abdelmotagly, Yeh...   \n",
       "1  Paramore, Louise; Yang, Bob; Abdelmotagly, Yeh...   \n",
       "2  Virlogeux, Victor; Yang, Juan; Fang, Vicky J.;...   \n",
       "3  Matnazarova, Gulbahor; Mirtazaev, Omonturdi; B...   \n",
       "4  Kong, Dechuan; Zheng, Yang; Wu, Huanyu; Pan, H...   \n",
       "5  Kong, Dechuan; Zheng, Yang; Wu, Huanyu; Pan, H...   \n",
       "\n",
       "                                     lempreprocessed  \n",
       "0  delivering urgent urological surgery during th...  \n",
       "1  delivering urgent urological surgery during th...  \n",
       "2  association between the severity of influenza ...  \n",
       "3  the new coronavirus cоvid 19 in uzbekistan the...  \n",
       "4  pre symptomatic transmission of novel coronavi...  \n",
       "5  pre symptomatic transmission of novel coronavi...  "
      ]
     },
     "metadata": {},
     "output_type": "display_data"
    },
    {
     "data": {
      "text/html": [
       "<div>\n",
       "<style scoped>\n",
       "    .dataframe tbody tr th:only-of-type {\n",
       "        vertical-align: middle;\n",
       "    }\n",
       "\n",
       "    .dataframe tbody tr th {\n",
       "        vertical-align: top;\n",
       "    }\n",
       "\n",
       "    .dataframe thead th {\n",
       "        text-align: right;\n",
       "    }\n",
       "</style>\n",
       "<table border=\"1\" class=\"dataframe\">\n",
       "  <thead>\n",
       "    <tr style=\"text-align: right;\">\n",
       "      <th></th>\n",
       "      <th>title</th>\n",
       "      <th>doi</th>\n",
       "      <th>abstract</th>\n",
       "      <th>authors</th>\n",
       "      <th>lempreprocessed</th>\n",
       "    </tr>\n",
       "  </thead>\n",
       "  <tbody>\n",
       "    <tr>\n",
       "      <th>0</th>\n",
       "      <td>SARS-CoV-2 Point Prevalence among Asymptomatic...</td>\n",
       "      <td>10.1093/jpids/piaa102</td>\n",
       "      <td>Asymptomatic SARS-CoV-2 carriage among hospita...</td>\n",
       "      <td>Patel, Ami B; Clifford, Andrea; Creaden, Julie...</td>\n",
       "      <td>sars cov point prevalence among asymptomatic h...</td>\n",
       "    </tr>\n",
       "    <tr>\n",
       "      <th>1</th>\n",
       "      <td>SARS-CoV-2 Point Prevalence among Asymptomatic...</td>\n",
       "      <td></td>\n",
       "      <td>Asymptomatic SARS-CoV-2 carriage among hospita...</td>\n",
       "      <td>Patel, Ami B; Clifford, Andrea; Creaden, Julie...</td>\n",
       "      <td>sars cov point prevalence among asymptomatic h...</td>\n",
       "    </tr>\n",
       "    <tr>\n",
       "      <th>2</th>\n",
       "      <td>Shedding of coronavirus‐like particles by chil...</td>\n",
       "      <td>10.1002/jmv.1890270219</td>\n",
       "      <td>Stools from 266 children in four districts of ...</td>\n",
       "      <td>Kidd, A. H.; Esrey, S. A.; Ujfalusi, Maria J.</td>\n",
       "      <td>shedding of coronavirus like particle by child...</td>\n",
       "    </tr>\n",
       "    <tr>\n",
       "      <th>3</th>\n",
       "      <td>Viral RNA Shedding and Transmission Potential ...</td>\n",
       "      <td></td>\n",
       "      <td>We studied the pattern and duration of viral R...</td>\n",
       "      <td>Samaddar, Arghadip Gadepalli Ravisekhar Nag Vi...</td>\n",
       "      <td>viral rna shedding and transmission potential ...</td>\n",
       "    </tr>\n",
       "    <tr>\n",
       "      <th>4</th>\n",
       "      <td>Viral RNA Shedding and Transmission Potential ...</td>\n",
       "      <td>10.1093/ofid/ofaa599</td>\n",
       "      <td>We studied the pattern and duration of viral R...</td>\n",
       "      <td>Samaddar, Arghadip; Gadepalli, Ravisekhar; Nag...</td>\n",
       "      <td>viral rna shedding and transmission potential ...</td>\n",
       "    </tr>\n",
       "    <tr>\n",
       "      <th>5</th>\n",
       "      <td>Viral Ribonucleic Acid Shedding and Transmissi...</td>\n",
       "      <td></td>\n",
       "      <td>We studied the pattern and duration of viral r...</td>\n",
       "      <td>Samaddar, A.; Gadepalli, R.; Nag, V. L.; Misra...</td>\n",
       "      <td>viral ribonucleic acid shedding and transmissi...</td>\n",
       "    </tr>\n",
       "  </tbody>\n",
       "</table>\n",
       "</div>"
      ],
      "text/plain": [
       "                                               title                     doi  \\\n",
       "0  SARS-CoV-2 Point Prevalence among Asymptomatic...   10.1093/jpids/piaa102   \n",
       "1  SARS-CoV-2 Point Prevalence among Asymptomatic...                           \n",
       "2  Shedding of coronavirus‐like particles by chil...  10.1002/jmv.1890270219   \n",
       "3  Viral RNA Shedding and Transmission Potential ...                           \n",
       "4  Viral RNA Shedding and Transmission Potential ...    10.1093/ofid/ofaa599   \n",
       "5  Viral Ribonucleic Acid Shedding and Transmissi...                           \n",
       "\n",
       "                                            abstract  \\\n",
       "0  Asymptomatic SARS-CoV-2 carriage among hospita...   \n",
       "1  Asymptomatic SARS-CoV-2 carriage among hospita...   \n",
       "2  Stools from 266 children in four districts of ...   \n",
       "3  We studied the pattern and duration of viral R...   \n",
       "4  We studied the pattern and duration of viral R...   \n",
       "5  We studied the pattern and duration of viral r...   \n",
       "\n",
       "                                             authors  \\\n",
       "0  Patel, Ami B; Clifford, Andrea; Creaden, Julie...   \n",
       "1  Patel, Ami B; Clifford, Andrea; Creaden, Julie...   \n",
       "2      Kidd, A. H.; Esrey, S. A.; Ujfalusi, Maria J.   \n",
       "3  Samaddar, Arghadip Gadepalli Ravisekhar Nag Vi...   \n",
       "4  Samaddar, Arghadip; Gadepalli, Ravisekhar; Nag...   \n",
       "5  Samaddar, A.; Gadepalli, R.; Nag, V. L.; Misra...   \n",
       "\n",
       "                                     lempreprocessed  \n",
       "0  sars cov point prevalence among asymptomatic h...  \n",
       "1  sars cov point prevalence among asymptomatic h...  \n",
       "2  shedding of coronavirus like particle by child...  \n",
       "3  viral rna shedding and transmission potential ...  \n",
       "4  viral rna shedding and transmission potential ...  \n",
       "5  viral ribonucleic acid shedding and transmissi...  "
      ]
     },
     "metadata": {},
     "output_type": "display_data"
    },
    {
     "name": "stdout",
     "output_type": "stream",
     "text": [
      "Wall time: 34min\n"
     ]
    }
   ],
   "source": [
    "%time display_topics_results(\"What is known about transmission, incubation, and environmental stability?\")"
   ]
  },
  {
   "cell_type": "code",
   "execution_count": 32,
   "metadata": {},
   "outputs": [],
   "source": [
    "from transformers import BertForQuestionAnswering\n",
    "from transformers import BertTokenizer\n",
    "import torch"
   ]
  },
  {
   "cell_type": "code",
   "execution_count": 35,
   "metadata": {},
   "outputs": [],
   "source": [
    "model = BertForQuestionAnswering.from_pretrained('bert-large-uncased-whole-word-masking-finetuned-squad')\n",
    "\n",
    "#Tokenizer\n",
    "tokenizer = BertTokenizer.from_pretrained('bert-large-uncased-whole-word-masking-finetuned-squad')\n"
   ]
  },
  {
   "cell_type": "code",
   "execution_count": 36,
   "metadata": {},
   "outputs": [],
   "source": [
    "question = \"What is known about transmission, incubation, and environmental stability\""
   ]
  },
  {
   "cell_type": "code",
   "execution_count": 37,
   "metadata": {},
   "outputs": [],
   "source": [
    "def info(abstract,question):\n",
    "    paragraph = abstract\n",
    "    encoding = tokenizer.encode_plus(text=question,text_pair=paragraph, add_special=True)\n",
    "    inputs = encoding['input_ids']  #Token embeddings\n",
    "    sentence_embedding = encoding['token_type_ids']  #Segment embeddings\n",
    "    tokens = tokenizer.convert_ids_to_tokens(inputs) #input tokens\n",
    "    start_scores, end_scores = model(input_ids=torch.tensor([inputs]), token_type_ids=torch.tensor([sentence_embedding]))\n",
    "    start_index = torch.argmax(start_scores)\n",
    "    end_index = torch.argmax(end_scores)\n",
    "    if end_index>start_index:\n",
    "        answer = tokens[start_index:end_index]\n",
    "        \n",
    "    else:\n",
    "        answer = tokens[start_index:]\n",
    "    return answer"
   ]
  },
  {
   "cell_type": "code",
   "execution_count": 39,
   "metadata": {},
   "outputs": [],
   "source": [
    "a=[]\n"
   ]
  },
  {
   "cell_type": "code",
   "execution_count": 40,
   "metadata": {
    "scrolled": false
   },
   "outputs": [
    {
     "name": "stdout",
     "output_type": "stream",
     "text": [
      "893\n"
     ]
    },
    {
     "name": "stderr",
     "output_type": "stream",
     "text": [
      "Keyword arguments {'add_special': True} not recognized.\n",
      "Keyword arguments {'add_special': True} not recognized.\n",
      "Keyword arguments {'add_special': True} not recognized.\n",
      "Keyword arguments {'add_special': True} not recognized.\n"
     ]
    },
    {
     "name": "stdout",
     "output_type": "stream",
     "text": [
      "424\n"
     ]
    },
    {
     "name": "stderr",
     "output_type": "stream",
     "text": [
      "Keyword arguments {'add_special': True} not recognized.\n",
      "Keyword arguments {'add_special': True} not recognized.\n"
     ]
    },
    {
     "name": "stdout",
     "output_type": "stream",
     "text": [
      "1379\n"
     ]
    },
    {
     "name": "stderr",
     "output_type": "stream",
     "text": [
      "Keyword arguments {'add_special': True} not recognized.\n",
      "Keyword arguments {'add_special': True} not recognized.\n"
     ]
    },
    {
     "name": "stdout",
     "output_type": "stream",
     "text": [
      "669\n"
     ]
    },
    {
     "name": "stderr",
     "output_type": "stream",
     "text": [
      "Keyword arguments {'add_special': True} not recognized.\n",
      "Keyword arguments {'add_special': True} not recognized.\n"
     ]
    },
    {
     "name": "stdout",
     "output_type": "stream",
     "text": [
      "1260\n"
     ]
    },
    {
     "name": "stderr",
     "output_type": "stream",
     "text": [
      "Keyword arguments {'add_special': True} not recognized.\n",
      "Keyword arguments {'add_special': True} not recognized.\n"
     ]
    },
    {
     "name": "stdout",
     "output_type": "stream",
     "text": [
      "473\n"
     ]
    },
    {
     "name": "stderr",
     "output_type": "stream",
     "text": [
      "Keyword arguments {'add_special': True} not recognized.\n",
      "Keyword arguments {'add_special': True} not recognized.\n"
     ]
    },
    {
     "name": "stdout",
     "output_type": "stream",
     "text": [
      "493\n"
     ]
    },
    {
     "name": "stderr",
     "output_type": "stream",
     "text": [
      "Keyword arguments {'add_special': True} not recognized.\n",
      "Keyword arguments {'add_special': True} not recognized.\n"
     ]
    },
    {
     "name": "stdout",
     "output_type": "stream",
     "text": [
      "1170\n"
     ]
    }
   ],
   "source": [
    "for i in list(set(l)):\n",
    "    print(len(i))\n",
    "    answer=info(i,question)\n",
    "    a.append(answer)\n",
    "    "
   ]
  },
  {
   "cell_type": "code",
   "execution_count": 41,
   "metadata": {},
   "outputs": [
    {
     "name": "stdout",
     "output_type": "stream",
     "text": [
      "82  [CLS] what is known about transmission , incubation , and environmental stability\n",
      "35  risk of transmission to healthcare\n",
      "1474  [CLS] what is known about transmission , incubation , and environmental stability [SEP] association between the severity of influenza h7n9 virus infection and length of the incubation period background in early 2013 novel avian origin influenza h7n9 virus emerged in china and ha caused sporadic human infection the incubation period is the delay from infection until onset of symptom and varies from person to person few previous study have examined whether the duration of the incubation period correlate with subsequent disease severity method and finding we analyzed data of period of exposure on 395 human case of laboratory confirmed influenza h7n9 virus infection in china in bayesian framework using weibull distribution we found longer incubation period for the 173 fatal case with mean of day 95 credibility interval cri compared to mean of day 95 cri for the 222 non fatal case and the difference in mean wa marginally significant at 47 day 95 cri 04 99 there wa statistically significant correlation between longer incubation period and an increased risk of death after adjustment for age sex geographical location and underlying medical condition adjusted odds ratio 70 per day increase in incubation period 95 credibility interval 47 97 conclusion we found significant association between longer incubation period and greater risk of death among human h7n9 case the underlying biological mechanism leading to this association deserve further exploration [SEP]\n",
      "63  pre symptomatic transmission of novel coronavirus in community\n",
      "71  incubation period last from to 14 day an infected person can be contag\n",
      "36  viral rna shedding and transmission\n",
      "49  viral ribonucleic acid shedding and transmission\n",
      "80  current evidence show an incubation period of up to 14 day post exposure to the\n"
     ]
    }
   ],
   "source": [
    "for i in a:\n",
    "    corrected_answer = ''\n",
    "    for word in i:\n",
    "        if word[0:2] == '##':\n",
    "            corrected_answer += word[2:]\n",
    "        else:\n",
    "            corrected_answer += ' ' + word\n",
    "    print(len(corrected_answer),corrected_answer)\n",
    "    "
   ]
  }
 ],
 "metadata": {
  "kernelspec": {
   "display_name": "Python 3",
   "language": "python",
   "name": "python3"
  },
  "language_info": {
   "codemirror_mode": {
    "name": "ipython",
    "version": 3
   },
   "file_extension": ".py",
   "mimetype": "text/x-python",
   "name": "python",
   "nbconvert_exporter": "python",
   "pygments_lexer": "ipython3",
   "version": "3.8.5"
  }
 },
 "nbformat": 4,
 "nbformat_minor": 4
}
